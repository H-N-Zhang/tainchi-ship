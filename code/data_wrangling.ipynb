{
 "cells": [
  {
   "cell_type": "code",
   "execution_count": 6,
   "metadata": {},
   "outputs": [],
   "source": [
    "import pandas as pd\n",
    "import numpy as np\n",
    "import matplotlib.pyplot as plt\n",
    "import os\n",
    "import datetime\n",
    "import warnings\n",
    "warnings.filterwarnings('ignore')"
   ]
  },
  {
   "cell_type": "code",
   "execution_count": 7,
   "metadata": {},
   "outputs": [],
   "source": [
    "train_path = './hy_round1_train_20200102'\n",
    "test_path = './hy_round1_testA_20200102'"
   ]
  },
  {
   "cell_type": "code",
   "execution_count": 8,
   "metadata": {},
   "outputs": [],
   "source": [
    "def group_feature(df, key, target, aggs):   \n",
    "    agg_dict = {}\n",
    "    for ag in aggs:\n",
    "        agg_dict[f'{target}_{ag}'] = ag\n",
    "    t = df.groupby(key)[target].agg(agg_dict).reset_index()\n",
    "    return t"
   ]
  },
  {
   "cell_type": "code",
   "execution_count": 13,
   "metadata": {},
   "outputs": [],
   "source": [
    "def data_processing(Input, isTrain = True):\n",
    "    df = pd.read_csv(Input)\n",
    "    ID = df.iloc[0,0]\n",
    "    if isTrain:\n",
    "        label = df.iloc[0,-1]\n",
    "        df =df.drop('type', axis = 1)\n",
    "    df = df.loc[::-1]\n",
    "    df.columns = ['ID', 'x', 'y', 'speed', 'direct', 'time']\n",
    "    df['time'] = df['time'].apply(lambda x: datetime.datetime.strptime(x, \"%m%d %H:%M:%S\"))\n",
    "    df_diff = df.diff(1).iloc[1:]\n",
    "    df_diff['ID'] =ID\n",
    "    df_diff.columns = ['ID', 'x_diff', 'y_diff', 'speed_diff', 'direct_diff', 'time_diff']\n",
    "    df_diff['time_seconds_diff'] = df_diff['time_diff'].dt.total_seconds()\n",
    "    x = group_feature(df, 'ID', 'x', ['max','min','mean','std','skew','sum'])\n",
    "    y = group_feature(df, 'ID', 'y', ['max','min','mean','std','skew','sum'])\n",
    "    speed = group_feature(df, 'ID', 'speed', ['max','min','mean','std','skew','sum'])\n",
    "    direct = group_feature(df, 'ID', 'direct', ['max','min','mean','std','skew','sum'])\n",
    "    x_diff = group_feature(df_diff, 'ID', 'x_diff', ['max','min','mean','std','skew','sum'])\n",
    "    y_diff = group_feature(df_diff, 'ID', 'y_diff', ['max','min','mean','std','skew','sum'])\n",
    "    speed_diff = group_feature(df_diff, 'ID', 'speed_diff', ['max','min','mean','std','skew','sum'])\n",
    "    direct_diff = group_feature(df_diff, 'ID', 'direct_diff', ['max','min','mean','std','skew','sum'])\n",
    "    time_diff = group_feature(df_diff, 'ID', 'time_seconds_diff', ['max','min','mean','std','skew','sum'])\n",
    "    feature = pd.merge(x, y)\n",
    "    feature = pd.merge(feature, speed)\n",
    "    feature = pd.merge(feature, direct)\n",
    "    feature = pd.merge(feature, x_diff)\n",
    "    feature = pd.merge(feature, y_diff)\n",
    "    feature = pd.merge(feature, speed_diff)\n",
    "    feature = pd.merge(feature, direct_diff)\n",
    "    feature = pd.merge(feature, time_diff)\n",
    "    feature['x_span'] = df.x.max() - df.x.min()\n",
    "    feature['y_span'] = df.y.max() - df.y.min()\n",
    "    feature['speed_span'] = df.speed.max() - df.speed.min()\n",
    "    feature['direct_span'] = df.direct.max() - df.direct.min()\n",
    "    feature['slope'] = feature['y_span'] / np.where(feature['x_span'] == 0, 0.001, feature['x_span'])\n",
    "    feature['area'] = feature['y_span'] * feature['x_span']\n",
    "    if isTrain:\n",
    "        feature['label'] = label\n",
    "    return feature"
   ]
  },
  {
   "cell_type": "code",
   "execution_count": 14,
   "metadata": {
    "scrolled": true
   },
   "outputs": [
    {
     "name": "stdout",
     "output_type": "stream",
     "text": [
      "处理第100条数据\n",
      "处理第200条数据\n",
      "处理第300条数据\n",
      "处理第400条数据\n",
      "处理第500条数据\n",
      "处理第600条数据\n",
      "处理第700条数据\n",
      "处理第800条数据\n",
      "处理第900条数据\n",
      "处理第1000条数据\n",
      "处理第1100条数据\n",
      "处理第1200条数据\n",
      "处理第1300条数据\n",
      "处理第1400条数据\n",
      "处理第1500条数据\n",
      "处理第1600条数据\n",
      "处理第1700条数据\n",
      "处理第1800条数据\n",
      "处理第1900条数据\n",
      "处理第2000条数据\n"
     ]
    }
   ],
   "source": [
    "files = os.listdir(test_path)\n",
    "df = None\n",
    "count = 0\n",
    "for file in files:\n",
    "    if df is None:\n",
    "        df = data_processing(os.path.join(test_path, file), False)\n",
    "    else:\n",
    "        df = pd.concat([df, data_processing(os.path.join(test_path, file), False)])\n",
    "    count += 1\n",
    "    if count % 100 == 0: print('处理第' + str(count) + '条数据')"
   ]
  },
  {
   "cell_type": "code",
   "execution_count": 15,
   "metadata": {},
   "outputs": [],
   "source": [
    "df.to_csv('./test/test.csv', index = None, encoding = 'utf-8')"
   ]
  }
 ],
 "metadata": {
  "kernelspec": {
   "display_name": "Python 3",
   "language": "python",
   "name": "python3"
  },
  "language_info": {
   "codemirror_mode": {
    "name": "ipython",
    "version": 3
   },
   "file_extension": ".py",
   "mimetype": "text/x-python",
   "name": "python",
   "nbconvert_exporter": "python",
   "pygments_lexer": "ipython3",
   "version": "3.7.3"
  }
 },
 "nbformat": 4,
 "nbformat_minor": 2
}
